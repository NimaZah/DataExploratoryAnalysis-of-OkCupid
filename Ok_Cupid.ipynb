{
  "nbformat": 4,
  "nbformat_minor": 0,
  "metadata": {
    "colab": {
      "name": "Ok Cupid.ipynb",
      "provenance": [],
      "collapsed_sections": [],
      "authorship_tag": "ABX9TyPIgORuviGQ5Sv2mGoAIIQ6",
      "include_colab_link": true
    },
    "kernelspec": {
      "name": "python3",
      "display_name": "Python 3"
    },
    "language_info": {
      "name": "python"
    }
  },
  "cells": [
    {
      "cell_type": "markdown",
      "metadata": {
        "id": "view-in-github",
        "colab_type": "text"
      },
      "source": [
        "<a href=\"https://colab.research.google.com/github/NimaZah/Ok-Cupid/blob/main/Ok_Cupid.ipynb\" target=\"_parent\"><img src=\"https://colab.research.google.com/assets/colab-badge.svg\" alt=\"Open In Colab\"/></a>"
      ]
    },
    {
      "cell_type": "code",
      "source": [
        "import pandas as pd\n",
        "import numpy as np\n",
        "import matplotlib.pyplot as plt\n",
        "import matplotlib.pyplot as plt\n",
        "import seaborn as sns"
      ],
      "metadata": {
        "id": "9CBdeANRkDBc"
      },
      "execution_count": 1,
      "outputs": []
    },
    {
      "cell_type": "code",
      "source": [
        "df = pd.read_csv('Ok_Cupid_Datset.csv')\n",
        "\n",
        "df.head()"
      ],
      "metadata": {
        "colab": {
          "base_uri": "https://localhost:8080/",
          "height": 838
        },
        "id": "a61lIYw8mGqZ",
        "outputId": "ff596113-bff7-424a-9481-5b81f355aacb"
      },
      "execution_count": 2,
      "outputs": [
        {
          "output_type": "stream",
          "name": "stderr",
          "text": [
            "/usr/local/lib/python3.7/dist-packages/IPython/core/interactiveshell.py:2718: DtypeWarning: Columns (0,10,11,31,32,33,34,35,36,37,38,39,40,41,42,43,44,45,46,47,48,49,50,51,52,53,54,55,56,57,58,59,60,61,62,63,64,65,66,67,68,69,70,71,72,73,74,75,76,77,78,79,80,81,82,83,84,85,86,87,88,89,90,91,92,93,94,95,96,97,98,99,100,101,102,103,104,105,106,107,108,109,110,111,112,113,114,115,116,117,118,119,120,121,122,123,124,125,126,127,128,129,130,131,132,133,134,135,136,137,138,139,140,141,142,143,144,145,146,147,148,149,150,151,152,153) have mixed types.Specify dtype option on import or set low_memory=False.\n",
            "  interactivity=interactivity, compiler=compiler, result=result)\n"
          ]
        },
        {
          "output_type": "execute_result",
          "data": {
            "text/html": [
              "\n",
              "  <div id=\"df-23157722-5bae-41f4-b2fd-e67bdfce1cbe\">\n",
              "    <div class=\"colab-df-container\">\n",
              "      <div>\n",
              "<style scoped>\n",
              "    .dataframe tbody tr th:only-of-type {\n",
              "        vertical-align: middle;\n",
              "    }\n",
              "\n",
              "    .dataframe tbody tr th {\n",
              "        vertical-align: top;\n",
              "    }\n",
              "\n",
              "    .dataframe thead th {\n",
              "        text-align: right;\n",
              "    }\n",
              "</style>\n",
              "<table border=\"1\" class=\"dataframe\">\n",
              "  <thead>\n",
              "    <tr style=\"text-align: right;\">\n",
              "      <th></th>\n",
              "      <th>age</th>\n",
              "      <th>status</th>\n",
              "      <th>sex</th>\n",
              "      <th>orientation</th>\n",
              "      <th>body_type</th>\n",
              "      <th>diet</th>\n",
              "      <th>drinks</th>\n",
              "      <th>drugs</th>\n",
              "      <th>education</th>\n",
              "      <th>ethnicity</th>\n",
              "      <th>height</th>\n",
              "      <th>income</th>\n",
              "      <th>job</th>\n",
              "      <th>last_online</th>\n",
              "      <th>location</th>\n",
              "      <th>offspring</th>\n",
              "      <th>pets</th>\n",
              "      <th>religion</th>\n",
              "      <th>sign</th>\n",
              "      <th>smokes</th>\n",
              "      <th>speaks</th>\n",
              "      <th>essay0</th>\n",
              "      <th>essay1</th>\n",
              "      <th>essay2</th>\n",
              "      <th>essay3</th>\n",
              "      <th>essay4</th>\n",
              "      <th>essay5</th>\n",
              "      <th>essay6</th>\n",
              "      <th>essay7</th>\n",
              "      <th>essay8</th>\n",
              "      <th>essay9</th>\n",
              "      <th>Unnamed: 31</th>\n",
              "      <th>Unnamed: 32</th>\n",
              "      <th>Unnamed: 33</th>\n",
              "      <th>Unnamed: 34</th>\n",
              "      <th>Unnamed: 35</th>\n",
              "      <th>Unnamed: 36</th>\n",
              "      <th>Unnamed: 37</th>\n",
              "      <th>Unnamed: 38</th>\n",
              "      <th>Unnamed: 39</th>\n",
              "      <th>...</th>\n",
              "      <th>Unnamed: 114</th>\n",
              "      <th>Unnamed: 115</th>\n",
              "      <th>Unnamed: 116</th>\n",
              "      <th>Unnamed: 117</th>\n",
              "      <th>Unnamed: 118</th>\n",
              "      <th>Unnamed: 119</th>\n",
              "      <th>Unnamed: 120</th>\n",
              "      <th>Unnamed: 121</th>\n",
              "      <th>Unnamed: 122</th>\n",
              "      <th>Unnamed: 123</th>\n",
              "      <th>Unnamed: 124</th>\n",
              "      <th>Unnamed: 125</th>\n",
              "      <th>Unnamed: 126</th>\n",
              "      <th>Unnamed: 127</th>\n",
              "      <th>Unnamed: 128</th>\n",
              "      <th>Unnamed: 129</th>\n",
              "      <th>Unnamed: 130</th>\n",
              "      <th>Unnamed: 131</th>\n",
              "      <th>Unnamed: 132</th>\n",
              "      <th>Unnamed: 133</th>\n",
              "      <th>Unnamed: 134</th>\n",
              "      <th>Unnamed: 135</th>\n",
              "      <th>Unnamed: 136</th>\n",
              "      <th>Unnamed: 137</th>\n",
              "      <th>Unnamed: 138</th>\n",
              "      <th>Unnamed: 139</th>\n",
              "      <th>Unnamed: 140</th>\n",
              "      <th>Unnamed: 141</th>\n",
              "      <th>Unnamed: 142</th>\n",
              "      <th>Unnamed: 143</th>\n",
              "      <th>Unnamed: 144</th>\n",
              "      <th>Unnamed: 145</th>\n",
              "      <th>Unnamed: 146</th>\n",
              "      <th>Unnamed: 147</th>\n",
              "      <th>Unnamed: 148</th>\n",
              "      <th>Unnamed: 149</th>\n",
              "      <th>Unnamed: 150</th>\n",
              "      <th>Unnamed: 151</th>\n",
              "      <th>Unnamed: 152</th>\n",
              "      <th>Unnamed: 153</th>\n",
              "    </tr>\n",
              "  </thead>\n",
              "  <tbody>\n",
              "    <tr>\n",
              "      <th>0</th>\n",
              "      <td>22</td>\n",
              "      <td>single</td>\n",
              "      <td>m</td>\n",
              "      <td>straight</td>\n",
              "      <td>a little extra</td>\n",
              "      <td>strictly anything</td>\n",
              "      <td>socially</td>\n",
              "      <td>never</td>\n",
              "      <td>working on college/university</td>\n",
              "      <td>asian, white</td>\n",
              "      <td>75</td>\n",
              "      <td>-1</td>\n",
              "      <td>transportation</td>\n",
              "      <td>2012-06-28-20-30</td>\n",
              "      <td>south san francisco, california</td>\n",
              "      <td>doesn't have kids, but might want them</td>\n",
              "      <td>likes dogs and likes cats</td>\n",
              "      <td>agnosticism and very serious about it</td>\n",
              "      <td>gemini</td>\n",
              "      <td>sometimes</td>\n",
              "      <td>english</td>\n",
              "      <td>about me:  i would love to think that i was so...</td>\n",
              "      <td>currently working as an international agent fo...</td>\n",
              "      <td>making people laugh. ranting about a good salt...</td>\n",
              "      <td>the way i look. i am a six foot half asian, ha...</td>\n",
              "      <td>books: absurdistan, the republic, of mice and ...</td>\n",
              "      <td>food. water. cell phone. shelter.</td>\n",
              "      <td>duality and humorous things</td>\n",
              "      <td>trying to find someone to hang out with. i am ...</td>\n",
              "      <td>i am new to california and looking for someone...</td>\n",
              "      <td>you want to be swept off your feet! you are ti...</td>\n",
              "      <td>NaN</td>\n",
              "      <td>NaN</td>\n",
              "      <td>NaN</td>\n",
              "      <td>NaN</td>\n",
              "      <td>NaN</td>\n",
              "      <td>NaN</td>\n",
              "      <td>NaN</td>\n",
              "      <td>NaN</td>\n",
              "      <td>NaN</td>\n",
              "      <td>...</td>\n",
              "      <td>NaN</td>\n",
              "      <td>NaN</td>\n",
              "      <td>NaN</td>\n",
              "      <td>NaN</td>\n",
              "      <td>NaN</td>\n",
              "      <td>NaN</td>\n",
              "      <td>NaN</td>\n",
              "      <td>NaN</td>\n",
              "      <td>NaN</td>\n",
              "      <td>NaN</td>\n",
              "      <td>NaN</td>\n",
              "      <td>NaN</td>\n",
              "      <td>NaN</td>\n",
              "      <td>NaN</td>\n",
              "      <td>NaN</td>\n",
              "      <td>NaN</td>\n",
              "      <td>NaN</td>\n",
              "      <td>NaN</td>\n",
              "      <td>NaN</td>\n",
              "      <td>NaN</td>\n",
              "      <td>NaN</td>\n",
              "      <td>NaN</td>\n",
              "      <td>NaN</td>\n",
              "      <td>NaN</td>\n",
              "      <td>NaN</td>\n",
              "      <td>NaN</td>\n",
              "      <td>NaN</td>\n",
              "      <td>NaN</td>\n",
              "      <td>NaN</td>\n",
              "      <td>NaN</td>\n",
              "      <td>NaN</td>\n",
              "      <td>NaN</td>\n",
              "      <td>NaN</td>\n",
              "      <td>NaN</td>\n",
              "      <td>NaN</td>\n",
              "      <td>NaN</td>\n",
              "      <td>NaN</td>\n",
              "      <td>NaN</td>\n",
              "      <td>NaN</td>\n",
              "      <td>NaN</td>\n",
              "    </tr>\n",
              "    <tr>\n",
              "      <th>1</th>\n",
              "      <td>35</td>\n",
              "      <td>single</td>\n",
              "      <td>m</td>\n",
              "      <td>straight</td>\n",
              "      <td>average</td>\n",
              "      <td>mostly other</td>\n",
              "      <td>often</td>\n",
              "      <td>sometimes</td>\n",
              "      <td>working on space camp</td>\n",
              "      <td>white</td>\n",
              "      <td>70</td>\n",
              "      <td>80000</td>\n",
              "      <td>hospitality / travel</td>\n",
              "      <td>2012-06-29-21-41</td>\n",
              "      <td>oakland, california</td>\n",
              "      <td>doesn't have kids, but might want them</td>\n",
              "      <td>likes dogs and likes cats</td>\n",
              "      <td>agnosticism but not too serious about it</td>\n",
              "      <td>cancer</td>\n",
              "      <td>no</td>\n",
              "      <td>english (fluently), spanish (poorly), french (...</td>\n",
              "      <td>i am a chef: this is what that means. 1. i am ...</td>\n",
              "      <td>dedicating everyday to being an unbelievable b...</td>\n",
              "      <td>being silly. having ridiculous amonts of fun w...</td>\n",
              "      <td>NaN</td>\n",
              "      <td>i am die hard christopher moore fan. i don't r...</td>\n",
              "      <td>delicious porkness in all of its glories. my b...</td>\n",
              "      <td>NaN</td>\n",
              "      <td>NaN</td>\n",
              "      <td>i am very open and will share just about anyth...</td>\n",
              "      <td>NaN</td>\n",
              "      <td>NaN</td>\n",
              "      <td>NaN</td>\n",
              "      <td>NaN</td>\n",
              "      <td>NaN</td>\n",
              "      <td>NaN</td>\n",
              "      <td>NaN</td>\n",
              "      <td>NaN</td>\n",
              "      <td>NaN</td>\n",
              "      <td>NaN</td>\n",
              "      <td>...</td>\n",
              "      <td>NaN</td>\n",
              "      <td>NaN</td>\n",
              "      <td>NaN</td>\n",
              "      <td>NaN</td>\n",
              "      <td>NaN</td>\n",
              "      <td>NaN</td>\n",
              "      <td>NaN</td>\n",
              "      <td>NaN</td>\n",
              "      <td>NaN</td>\n",
              "      <td>NaN</td>\n",
              "      <td>NaN</td>\n",
              "      <td>NaN</td>\n",
              "      <td>NaN</td>\n",
              "      <td>NaN</td>\n",
              "      <td>NaN</td>\n",
              "      <td>NaN</td>\n",
              "      <td>NaN</td>\n",
              "      <td>NaN</td>\n",
              "      <td>NaN</td>\n",
              "      <td>NaN</td>\n",
              "      <td>NaN</td>\n",
              "      <td>NaN</td>\n",
              "      <td>NaN</td>\n",
              "      <td>NaN</td>\n",
              "      <td>NaN</td>\n",
              "      <td>NaN</td>\n",
              "      <td>NaN</td>\n",
              "      <td>NaN</td>\n",
              "      <td>NaN</td>\n",
              "      <td>NaN</td>\n",
              "      <td>NaN</td>\n",
              "      <td>NaN</td>\n",
              "      <td>NaN</td>\n",
              "      <td>NaN</td>\n",
              "      <td>NaN</td>\n",
              "      <td>NaN</td>\n",
              "      <td>NaN</td>\n",
              "      <td>NaN</td>\n",
              "      <td>NaN</td>\n",
              "      <td>NaN</td>\n",
              "    </tr>\n",
              "    <tr>\n",
              "      <th>2</th>\n",
              "      <td>38</td>\n",
              "      <td>available</td>\n",
              "      <td>m</td>\n",
              "      <td>straight</td>\n",
              "      <td>thin</td>\n",
              "      <td>anything</td>\n",
              "      <td>socially</td>\n",
              "      <td>NaN</td>\n",
              "      <td>graduated from masters program</td>\n",
              "      <td>NaN</td>\n",
              "      <td>68</td>\n",
              "      <td>-1</td>\n",
              "      <td>NaN</td>\n",
              "      <td>2012-06-27-09-10</td>\n",
              "      <td>san francisco, california</td>\n",
              "      <td>NaN</td>\n",
              "      <td>has cats</td>\n",
              "      <td>NaN</td>\n",
              "      <td>pisces but it doesn&amp;rsquo;t matter</td>\n",
              "      <td>no</td>\n",
              "      <td>english, french, c++</td>\n",
              "      <td>i'm not ashamed of much, but writing public te...</td>\n",
              "      <td>i make nerdy software for musicians, artists, ...</td>\n",
              "      <td>improvising in different contexts. alternating...</td>\n",
              "      <td>my large jaw and large glasses are the physica...</td>\n",
              "      <td>okay this is where the cultural matrix gets so...</td>\n",
              "      <td>movement conversation creation contemplation t...</td>\n",
              "      <td>NaN</td>\n",
              "      <td>viewing. listening. dancing. talking. drinking...</td>\n",
              "      <td>when i was five years old, i was known as \"the...</td>\n",
              "      <td>you are bright, open, intense, silly, ironic, ...</td>\n",
              "      <td>NaN</td>\n",
              "      <td>NaN</td>\n",
              "      <td>NaN</td>\n",
              "      <td>NaN</td>\n",
              "      <td>NaN</td>\n",
              "      <td>NaN</td>\n",
              "      <td>NaN</td>\n",
              "      <td>NaN</td>\n",
              "      <td>NaN</td>\n",
              "      <td>...</td>\n",
              "      <td>NaN</td>\n",
              "      <td>NaN</td>\n",
              "      <td>NaN</td>\n",
              "      <td>NaN</td>\n",
              "      <td>NaN</td>\n",
              "      <td>NaN</td>\n",
              "      <td>NaN</td>\n",
              "      <td>NaN</td>\n",
              "      <td>NaN</td>\n",
              "      <td>NaN</td>\n",
              "      <td>NaN</td>\n",
              "      <td>NaN</td>\n",
              "      <td>NaN</td>\n",
              "      <td>NaN</td>\n",
              "      <td>NaN</td>\n",
              "      <td>NaN</td>\n",
              "      <td>NaN</td>\n",
              "      <td>NaN</td>\n",
              "      <td>NaN</td>\n",
              "      <td>NaN</td>\n",
              "      <td>NaN</td>\n",
              "      <td>NaN</td>\n",
              "      <td>NaN</td>\n",
              "      <td>NaN</td>\n",
              "      <td>NaN</td>\n",
              "      <td>NaN</td>\n",
              "      <td>NaN</td>\n",
              "      <td>NaN</td>\n",
              "      <td>NaN</td>\n",
              "      <td>NaN</td>\n",
              "      <td>NaN</td>\n",
              "      <td>NaN</td>\n",
              "      <td>NaN</td>\n",
              "      <td>NaN</td>\n",
              "      <td>NaN</td>\n",
              "      <td>NaN</td>\n",
              "      <td>NaN</td>\n",
              "      <td>NaN</td>\n",
              "      <td>NaN</td>\n",
              "      <td>NaN</td>\n",
              "    </tr>\n",
              "    <tr>\n",
              "      <th>3</th>\n",
              "      <td>23</td>\n",
              "      <td>single</td>\n",
              "      <td>m</td>\n",
              "      <td>straight</td>\n",
              "      <td>thin</td>\n",
              "      <td>vegetarian</td>\n",
              "      <td>socially</td>\n",
              "      <td>NaN</td>\n",
              "      <td>working on college/university</td>\n",
              "      <td>white</td>\n",
              "      <td>71</td>\n",
              "      <td>20000</td>\n",
              "      <td>student</td>\n",
              "      <td>2012-06-28-14-22</td>\n",
              "      <td>berkeley, california</td>\n",
              "      <td>doesn't want kids</td>\n",
              "      <td>likes cats</td>\n",
              "      <td>NaN</td>\n",
              "      <td>pisces</td>\n",
              "      <td>no</td>\n",
              "      <td>english, german (poorly)</td>\n",
              "      <td>i work in a library and go to school. . .</td>\n",
              "      <td>reading things written by old dead people</td>\n",
              "      <td>playing synthesizers and organizing books acco...</td>\n",
              "      <td>socially awkward but i do my best</td>\n",
              "      <td>bataille, celine, beckett. . . lynch, jarmusch...</td>\n",
              "      <td>NaN</td>\n",
              "      <td>cats and german philosophy</td>\n",
              "      <td>NaN</td>\n",
              "      <td>NaN</td>\n",
              "      <td>you feel so inclined.</td>\n",
              "      <td>NaN</td>\n",
              "      <td>NaN</td>\n",
              "      <td>NaN</td>\n",
              "      <td>NaN</td>\n",
              "      <td>NaN</td>\n",
              "      <td>NaN</td>\n",
              "      <td>NaN</td>\n",
              "      <td>NaN</td>\n",
              "      <td>NaN</td>\n",
              "      <td>...</td>\n",
              "      <td>NaN</td>\n",
              "      <td>NaN</td>\n",
              "      <td>NaN</td>\n",
              "      <td>NaN</td>\n",
              "      <td>NaN</td>\n",
              "      <td>NaN</td>\n",
              "      <td>NaN</td>\n",
              "      <td>NaN</td>\n",
              "      <td>NaN</td>\n",
              "      <td>NaN</td>\n",
              "      <td>NaN</td>\n",
              "      <td>NaN</td>\n",
              "      <td>NaN</td>\n",
              "      <td>NaN</td>\n",
              "      <td>NaN</td>\n",
              "      <td>NaN</td>\n",
              "      <td>NaN</td>\n",
              "      <td>NaN</td>\n",
              "      <td>NaN</td>\n",
              "      <td>NaN</td>\n",
              "      <td>NaN</td>\n",
              "      <td>NaN</td>\n",
              "      <td>NaN</td>\n",
              "      <td>NaN</td>\n",
              "      <td>NaN</td>\n",
              "      <td>NaN</td>\n",
              "      <td>NaN</td>\n",
              "      <td>NaN</td>\n",
              "      <td>NaN</td>\n",
              "      <td>NaN</td>\n",
              "      <td>NaN</td>\n",
              "      <td>NaN</td>\n",
              "      <td>NaN</td>\n",
              "      <td>NaN</td>\n",
              "      <td>NaN</td>\n",
              "      <td>NaN</td>\n",
              "      <td>NaN</td>\n",
              "      <td>NaN</td>\n",
              "      <td>NaN</td>\n",
              "      <td>NaN</td>\n",
              "    </tr>\n",
              "    <tr>\n",
              "      <th>4</th>\n",
              "      <td>29</td>\n",
              "      <td>single</td>\n",
              "      <td>m</td>\n",
              "      <td>straight</td>\n",
              "      <td>athletic</td>\n",
              "      <td>NaN</td>\n",
              "      <td>socially</td>\n",
              "      <td>never</td>\n",
              "      <td>graduated from college/university</td>\n",
              "      <td>asian, black, other</td>\n",
              "      <td>66</td>\n",
              "      <td>-1</td>\n",
              "      <td>artistic / musical / writer</td>\n",
              "      <td>2012-06-27-21-26</td>\n",
              "      <td>san francisco, california</td>\n",
              "      <td>NaN</td>\n",
              "      <td>likes dogs and likes cats</td>\n",
              "      <td>NaN</td>\n",
              "      <td>aquarius</td>\n",
              "      <td>no</td>\n",
              "      <td>english</td>\n",
              "      <td>hey how's it going? currently vague on the pro...</td>\n",
              "      <td>work work work work + play</td>\n",
              "      <td>creating imagery to look at: http://bagsbrown....</td>\n",
              "      <td>i smile a lot and my inquisitive nature</td>\n",
              "      <td>music: bands, rappers, musicians at the moment...</td>\n",
              "      <td>NaN</td>\n",
              "      <td>NaN</td>\n",
              "      <td>NaN</td>\n",
              "      <td>NaN</td>\n",
              "      <td>NaN</td>\n",
              "      <td>NaN</td>\n",
              "      <td>NaN</td>\n",
              "      <td>NaN</td>\n",
              "      <td>NaN</td>\n",
              "      <td>NaN</td>\n",
              "      <td>NaN</td>\n",
              "      <td>NaN</td>\n",
              "      <td>NaN</td>\n",
              "      <td>NaN</td>\n",
              "      <td>...</td>\n",
              "      <td>NaN</td>\n",
              "      <td>NaN</td>\n",
              "      <td>NaN</td>\n",
              "      <td>NaN</td>\n",
              "      <td>NaN</td>\n",
              "      <td>NaN</td>\n",
              "      <td>NaN</td>\n",
              "      <td>NaN</td>\n",
              "      <td>NaN</td>\n",
              "      <td>NaN</td>\n",
              "      <td>NaN</td>\n",
              "      <td>NaN</td>\n",
              "      <td>NaN</td>\n",
              "      <td>NaN</td>\n",
              "      <td>NaN</td>\n",
              "      <td>NaN</td>\n",
              "      <td>NaN</td>\n",
              "      <td>NaN</td>\n",
              "      <td>NaN</td>\n",
              "      <td>NaN</td>\n",
              "      <td>NaN</td>\n",
              "      <td>NaN</td>\n",
              "      <td>NaN</td>\n",
              "      <td>NaN</td>\n",
              "      <td>NaN</td>\n",
              "      <td>NaN</td>\n",
              "      <td>NaN</td>\n",
              "      <td>NaN</td>\n",
              "      <td>NaN</td>\n",
              "      <td>NaN</td>\n",
              "      <td>NaN</td>\n",
              "      <td>NaN</td>\n",
              "      <td>NaN</td>\n",
              "      <td>NaN</td>\n",
              "      <td>NaN</td>\n",
              "      <td>NaN</td>\n",
              "      <td>NaN</td>\n",
              "      <td>NaN</td>\n",
              "      <td>NaN</td>\n",
              "      <td>NaN</td>\n",
              "    </tr>\n",
              "  </tbody>\n",
              "</table>\n",
              "<p>5 rows × 154 columns</p>\n",
              "</div>\n",
              "      <button class=\"colab-df-convert\" onclick=\"convertToInteractive('df-23157722-5bae-41f4-b2fd-e67bdfce1cbe')\"\n",
              "              title=\"Convert this dataframe to an interactive table.\"\n",
              "              style=\"display:none;\">\n",
              "        \n",
              "  <svg xmlns=\"http://www.w3.org/2000/svg\" height=\"24px\"viewBox=\"0 0 24 24\"\n",
              "       width=\"24px\">\n",
              "    <path d=\"M0 0h24v24H0V0z\" fill=\"none\"/>\n",
              "    <path d=\"M18.56 5.44l.94 2.06.94-2.06 2.06-.94-2.06-.94-.94-2.06-.94 2.06-2.06.94zm-11 1L8.5 8.5l.94-2.06 2.06-.94-2.06-.94L8.5 2.5l-.94 2.06-2.06.94zm10 10l.94 2.06.94-2.06 2.06-.94-2.06-.94-.94-2.06-.94 2.06-2.06.94z\"/><path d=\"M17.41 7.96l-1.37-1.37c-.4-.4-.92-.59-1.43-.59-.52 0-1.04.2-1.43.59L10.3 9.45l-7.72 7.72c-.78.78-.78 2.05 0 2.83L4 21.41c.39.39.9.59 1.41.59.51 0 1.02-.2 1.41-.59l7.78-7.78 2.81-2.81c.8-.78.8-2.07 0-2.86zM5.41 20L4 18.59l7.72-7.72 1.47 1.35L5.41 20z\"/>\n",
              "  </svg>\n",
              "      </button>\n",
              "      \n",
              "  <style>\n",
              "    .colab-df-container {\n",
              "      display:flex;\n",
              "      flex-wrap:wrap;\n",
              "      gap: 12px;\n",
              "    }\n",
              "\n",
              "    .colab-df-convert {\n",
              "      background-color: #E8F0FE;\n",
              "      border: none;\n",
              "      border-radius: 50%;\n",
              "      cursor: pointer;\n",
              "      display: none;\n",
              "      fill: #1967D2;\n",
              "      height: 32px;\n",
              "      padding: 0 0 0 0;\n",
              "      width: 32px;\n",
              "    }\n",
              "\n",
              "    .colab-df-convert:hover {\n",
              "      background-color: #E2EBFA;\n",
              "      box-shadow: 0px 1px 2px rgba(60, 64, 67, 0.3), 0px 1px 3px 1px rgba(60, 64, 67, 0.15);\n",
              "      fill: #174EA6;\n",
              "    }\n",
              "\n",
              "    [theme=dark] .colab-df-convert {\n",
              "      background-color: #3B4455;\n",
              "      fill: #D2E3FC;\n",
              "    }\n",
              "\n",
              "    [theme=dark] .colab-df-convert:hover {\n",
              "      background-color: #434B5C;\n",
              "      box-shadow: 0px 1px 3px 1px rgba(0, 0, 0, 0.15);\n",
              "      filter: drop-shadow(0px 1px 2px rgba(0, 0, 0, 0.3));\n",
              "      fill: #FFFFFF;\n",
              "    }\n",
              "  </style>\n",
              "\n",
              "      <script>\n",
              "        const buttonEl =\n",
              "          document.querySelector('#df-23157722-5bae-41f4-b2fd-e67bdfce1cbe button.colab-df-convert');\n",
              "        buttonEl.style.display =\n",
              "          google.colab.kernel.accessAllowed ? 'block' : 'none';\n",
              "\n",
              "        async function convertToInteractive(key) {\n",
              "          const element = document.querySelector('#df-23157722-5bae-41f4-b2fd-e67bdfce1cbe');\n",
              "          const dataTable =\n",
              "            await google.colab.kernel.invokeFunction('convertToInteractive',\n",
              "                                                     [key], {});\n",
              "          if (!dataTable) return;\n",
              "\n",
              "          const docLinkHtml = 'Like what you see? Visit the ' +\n",
              "            '<a target=\"_blank\" href=https://colab.research.google.com/notebooks/data_table.ipynb>data table notebook</a>'\n",
              "            + ' to learn more about interactive tables.';\n",
              "          element.innerHTML = '';\n",
              "          dataTable['output_type'] = 'display_data';\n",
              "          await google.colab.output.renderOutput(dataTable, element);\n",
              "          const docLink = document.createElement('div');\n",
              "          docLink.innerHTML = docLinkHtml;\n",
              "          element.appendChild(docLink);\n",
              "        }\n",
              "      </script>\n",
              "    </div>\n",
              "  </div>\n",
              "  "
            ],
            "text/plain": [
              "  age     status sex  ... Unnamed: 151 Unnamed: 152 Unnamed: 153\n",
              "0  22     single   m  ...          NaN          NaN          NaN\n",
              "1  35     single   m  ...          NaN          NaN          NaN\n",
              "2  38  available   m  ...          NaN          NaN          NaN\n",
              "3  23     single   m  ...          NaN          NaN          NaN\n",
              "4  29     single   m  ...          NaN          NaN          NaN\n",
              "\n",
              "[5 rows x 154 columns]"
            ]
          },
          "metadata": {},
          "execution_count": 2
        }
      ]
    },
    {
      "cell_type": "code",
      "source": [
        "plt.figure(figsize=(10,5))\n",
        "sns.countplot(x='body_type', data=df)\n",
        "plt.title('Body Type')\n",
        "plt.show()"
      ],
      "metadata": {
        "colab": {
          "base_uri": "https://localhost:8080/",
          "height": 351
        },
        "id": "INEdqMR-dHmO",
        "outputId": "95ce0b45-b604-4f0b-f40b-f4e9ea939cff"
      },
      "execution_count": 3,
      "outputs": [
        {
          "output_type": "display_data",
          "data": {
            "image/png": "[encoded data removed]",
            "text/plain": [
              "<Figure size 720x360 with 1 Axes>"
            ]
          },
          "metadata": {
            "needs_background": "light"
          }
        }
      ]
    },
    {
      "cell_type": "code",
      "source": [
        "df.shape\n",
        "df.dtypes\n",
        "df.isnull().sum()\n"
      ],
      "metadata": {
        "colab": {
          "base_uri": "https://localhost:8080/"
        },
        "id": "bPTkzWnimtFK",
        "outputId": "7cb140d1-52c9-4640-e51d-9fac3e7859b5"
      },
      "execution_count": 4,
      "outputs": [
        {
          "output_type": "execute_result",
          "data": {
            "text/plain": [
              "age                 0\n",
              "status              0\n",
              "sex                 0\n",
              "orientation         0\n",
              "body_type        3524\n",
              "                ...  \n",
              "Unnamed: 149    41161\n",
              "Unnamed: 150    41161\n",
              "Unnamed: 151    41161\n",
              "Unnamed: 152    41161\n",
              "Unnamed: 153    41161\n",
              "Length: 154, dtype: int64"
            ]
          },
          "metadata": {},
          "execution_count": 4
        }
      ]
    },
    {
      "cell_type": "code",
      "source": [
        "df.columns\n"
      ],
      "metadata": {
        "colab": {
          "base_uri": "https://localhost:8080/"
        },
        "id": "baNh_s8xqbVi",
        "outputId": "c6a4502b-35f5-49b9-8b6c-8a7d53829940"
      },
      "execution_count": 5,
      "outputs": [
        {
          "output_type": "execute_result",
          "data": {
            "text/plain": [
              "Index(['age', 'status', 'sex', 'orientation', 'body_type', 'diet', 'drinks',\n",
              "       'drugs', 'education', 'ethnicity',\n",
              "       ...\n",
              "       'Unnamed: 144', 'Unnamed: 145', 'Unnamed: 146', 'Unnamed: 147',\n",
              "       'Unnamed: 148', 'Unnamed: 149', 'Unnamed: 150', 'Unnamed: 151',\n",
              "       'Unnamed: 152', 'Unnamed: 153'],\n",
              "      dtype='object', length=154)"
            ]
          },
          "metadata": {},
          "execution_count": 5
        }
      ]
    },
    {
      "cell_type": "code",
      "source": [
        "plt.figure(figsize=(10,5))\n",
        "sns.countplot(x='sex', data=df)\n",
        "plt.title('Sex Distribution')\n",
        "plt.show()"
      ],
      "metadata": {
        "colab": {
          "base_uri": "https://localhost:8080/",
          "height": 350
        },
        "id": "b4bHS1JLzbu8",
        "outputId": "a1dada05-f5b5-4acf-bfb8-9071d68d8fc7"
      },
      "execution_count": 11,
      "outputs": [
        {
          "output_type": "display_data",
          "data": {
            "image/png": "[encoded data removed]",
            "text/plain": [
              "<Figure size 720x360 with 1 Axes>"
            ]
          },
          "metadata": {
            "needs_background": "light"
          }
        }
      ]
    },
    {
      "cell_type": "code",
      "source": [
        "df['education'].value_counts()"
      ],
      "metadata": {
        "colab": {
          "base_uri": "https://localhost:8080/"
        },
        "id": "xgTeGRkfqotb",
        "outputId": "f28127a0-0548-4880-995a-4fa1124e3da0"
      },
      "execution_count": 6,
      "outputs": [
        {
          "output_type": "execute_result",
          "data": {
            "text/plain": [
              "graduated from college/university              16432\n",
              "graduated from masters program                  6216\n",
              "working on college/university                   3867\n",
              "working on masters program                      1142\n",
              "graduated from two-year college                 1030\n",
              "graduated from high school                       947\n",
              "graduated from ph.d program                      860\n",
              "graduated from law school                        785\n",
              "working on two-year college                      730\n",
              "dropped out of college/university                691\n",
              "working on ph.d program                          672\n",
              "college/university                               531\n",
              "graduated from space camp                        460\n",
              "dropped out of space camp                        365\n",
              "graduated from med school                        326\n",
              "working on space camp                            311\n",
              "working on law school                            192\n",
              "two-year college                                 163\n",
              "dropped out of two-year college                  150\n",
              "working on med school                            148\n",
              "masters program                                   96\n",
              "dropped out of masters program                    92\n",
              "dropped out of ph.d program                       81\n",
              "dropped out of high school                        72\n",
              "high school                                       61\n",
              "working on high school                            55\n",
              "space camp                                        40\n",
              "ph.d program                                      16\n",
              "law school                                        12\n",
              "dropped out of law school                         10\n",
              "dropped out of med school                          7\n",
              "med school                                         3\n",
              " family (currently I am more about friends)        1\n",
              "Name: education, dtype: int64"
            ]
          },
          "metadata": {},
          "execution_count": 6
        }
      ]
    },
    {
      "cell_type": "code",
      "source": [
        "# Since the x-axis has too many categories, we reorient and plot the data in a horizontal bar plot:\n",
        "plt.figure(figsize=(10,5))\n",
        "sns.countplot(y='education', data=df)\n",
        "plt.title('Education Distribution')\n",
        "plt.show()"
      ],
      "metadata": {
        "colab": {
          "base_uri": "https://localhost:8080/",
          "height": 350
        },
        "id": "XejUCgb52G2j",
        "outputId": "24c4630f-3bf4-4b40-e85e-c1069b4731c8"
      },
      "execution_count": 7,
      "outputs": [
        {
          "output_type": "display_data",
          "data": {
            "image/png": "[encoded data removed]",
            "text/plain": [
              "<Figure size 720x360 with 1 Axes>"
            ]
          },
          "metadata": {
            "needs_background": "light"
          }
        }
      ]
    },
    {
      "cell_type": "code",
      "source": [
        "# We drop some of the items in education column: family (currently i'm more about friends, med school, dropped out of med school, dropped out of law school, space camp, dropped out of high school,dropped out of ph.d program, dropped out of masters program, dropped out of two-year college.\n",
        "df = df[df.education != 'family']\n",
        "df = df[df.education != 'med school']\n",
        "df = df[df.education != 'dropped out of med school']\n",
        "df = df[df.education != 'dropped out of law school']\n",
        "df = df[df.education != 'space camp']\n",
        "df = df[df.education != 'dropped out of high school']\n",
        "df = df[df.education != 'dropped out of ph.d program']\n",
        "df = df[df.education != 'dropped out of masters program']\n",
        "df = df[df.education != 'dropped out of two-year college']\n",
        "df = df[df.education != 'dropped out of college/university']\n",
        "df = df[df.education != 'graduated from space camp']\n",
        "df = df[df.education != 'dropped out of space camp']\n",
        "df = df[df.education != 'working on space camp']\n",
        "df = df[df.education != ' family (currently I am more about friends)']\n",
        "\n",
        "df['education'].value_counts()"
      ],
      "metadata": {
        "colab": {
          "base_uri": "https://localhost:8080/"
        },
        "id": "k8ZzgBxm6Gly",
        "outputId": "e9238c6c-a983-4a1c-c4fd-c8a93801a210"
      },
      "execution_count": 8,
      "outputs": [
        {
          "output_type": "execute_result",
          "data": {
            "text/plain": [
              "graduated from college/university    16432\n",
              "graduated from masters program        6216\n",
              "working on college/university         3867\n",
              "working on masters program            1142\n",
              "graduated from two-year college       1030\n",
              "graduated from high school             947\n",
              "graduated from ph.d program            860\n",
              "graduated from law school              785\n",
              "working on two-year college            730\n",
              "working on ph.d program                672\n",
              "college/university                     531\n",
              "graduated from med school              326\n",
              "working on law school                  192\n",
              "two-year college                       163\n",
              "working on med school                  148\n",
              "masters program                         96\n",
              "high school                             61\n",
              "working on high school                  55\n",
              "ph.d program                            16\n",
              "law school                              12\n",
              "Name: education, dtype: int64"
            ]
          },
          "metadata": {},
          "execution_count": 8
        }
      ]
    },
    {
      "cell_type": "code",
      "source": [
        "# Creating 4 categories in education: highschool, undergraduate, masters, phd\n",
        "df['education'] = df['education'].replace(['graduated from high school', 'working on high school'], 'highschool')\n",
        "df['education'] = df['education'].replace(['graduated from two-year college', 'working on two-year college', 'graduated from college/university', 'graduated from law school', 'college/university', 'working on law school', 'working on med school', 'law school', 'working on college/university', 'graduated from med school', 'two-year college', 'high school'], 'undergraduate')\n",
        "df['education'] = df['education'].replace(['graduated from masters program', 'working on masters program', 'masters program'], 'masters')\n",
        "df['education'] = df['education'].replace(['graduated from ph.d program', 'working on ph.d program', 'ph.d program'], 'phd')\n",
        "df['education'].value_counts()"
      ],
      "metadata": {
        "colab": {
          "base_uri": "https://localhost:8080/"
        },
        "id": "okDP7Mr8_t3M",
        "outputId": "7ac8133a-10ae-4a4f-d1ee-49d4dd431a84"
      },
      "execution_count": 9,
      "outputs": [
        {
          "output_type": "execute_result",
          "data": {
            "text/plain": [
              "undergraduate    24277\n",
              "masters           7454\n",
              "phd               1548\n",
              "highschool        1002\n",
              "Name: education, dtype: int64"
            ]
          },
          "metadata": {},
          "execution_count": 9
        }
      ]
    },
    {
      "cell_type": "code",
      "source": [
        "# We creat only three categories for education: drop out, high school and graduate.\n",
        "plt.figure(figsize=(10,5))\n",
        "sns.countplot(y='education', data=df)\n",
        "plt.title('Education Distribution')\n",
        "plt.show()"
      ],
      "metadata": {
        "colab": {
          "base_uri": "https://localhost:8080/",
          "height": 350
        },
        "id": "dEsla5zHft-n",
        "outputId": "16be5032-723c-4e37-d89b-464fb201cc1b"
      },
      "execution_count": 10,
      "outputs": [
        {
          "output_type": "display_data",
          "data": {
            "image/png": "[encoded data removed]",
            "text/plain": [
              "<Figure size 720x360 with 1 Axes>"
            ]
          },
          "metadata": {
            "needs_background": "light"
          }
        }
      ]
    },
    {
      "cell_type": "code",
      "source": [
        "# there are some empty values in the column age. We need to remove them.\n",
        "df['age'].replace('', np.nan, inplace=True)\n",
        "df.dropna(subset=['age'], inplace=True)\n",
        "df.shape"
      ],
      "metadata": {
        "colab": {
          "base_uri": "https://localhost:8080/"
        },
        "id": "y6ZIclr5af-g",
        "outputId": "fe6e2f38-df9f-415c-d3cf-7135194333b9"
      },
      "execution_count": 12,
      "outputs": [
        {
          "output_type": "execute_result",
          "data": {
            "text/plain": [
              "(38879, 154)"
            ]
          },
          "metadata": {},
          "execution_count": 12
        }
      ]
    },
    {
      "cell_type": "code",
      "source": [
        "# ```TypeError: Neither the `x` nor `y` variable appears to be numeric.``` This error means that the data type of the column age is not numeric. We need to convert it to numeric.\n",
        "df['age'] = pd.to_numeric(df['age'])\n"
      ],
      "metadata": {
        "id": "bC8QpVo8eO0G"
      },
      "execution_count": 13,
      "outputs": []
    },
    {
      "cell_type": "code",
      "source": [
        "# \n",
        "plt.figure(figsize=(10,5))\n",
        "sns.distplot(df['age'], kde=False, bins=20)\n",
        "plt.title('Age Distribution')\n",
        "plt.show()\n"
      ],
      "metadata": {
        "colab": {
          "base_uri": "https://localhost:8080/",
          "height": 405
        },
        "id": "G5Hd_1shbYzX",
        "outputId": "c5d85dd0-22f2-49fb-e058-eec4796365af"
      },
      "execution_count": 14,
      "outputs": [
        {
          "output_type": "stream",
          "name": "stderr",
          "text": [
            "/usr/local/lib/python3.7/dist-packages/seaborn/distributions.py:2619: FutureWarning: `distplot` is a deprecated function and will be removed in a future version. Please adapt your code to use either `displot` (a figure-level function with similar flexibility) or `histplot` (an axes-level function for histograms).\n",
            "  warnings.warn(msg, FutureWarning)\n"
          ]
        },
        {
          "output_type": "display_data",
          "data": {
            "image/png": "[encoded data removed]",
            "text/plain": [
              "<Figure size 720x360 with 1 Axes>"
            ]
          },
          "metadata": {
            "needs_background": "light"
          }
        }
      ]
    },
    {
      "cell_type": "code",
      "source": [
        "plt.figure(figsize=(10,5))\n",
        "sns.boxplot(x='education', y='age', data=df)\n",
        "plt.title('Age Distribution by Education')\n",
        "plt.show()"
      ],
      "metadata": {
        "id": "zwNPRX6xdtS_",
        "colab": {
          "base_uri": "https://localhost:8080/",
          "height": 350
        },
        "outputId": "d91f623d-e139-42ed-906c-b7e70deca9c6"
      },
      "execution_count": 15,
      "outputs": [
        {
          "output_type": "display_data",
          "data": {
            "image/png": "[encoded data removed]",
            "text/plain": [
              "<Figure size 720x360 with 1 Axes>"
            ]
          },
          "metadata": {
            "needs_background": "light"
          }
        }
      ]
    },
    {
      "cell_type": "code",
      "source": [
        "plt.figure(figsize=(10,5))\n",
        "plt.xlim(0, 100)\n",
        "sns.countplot(x='drinks', data=df)\n",
        "plt.title('Drinking Distribution')\n",
        "plt.show()"
      ],
      "metadata": {
        "colab": {
          "base_uri": "https://localhost:8080/",
          "height": 350
        },
        "id": "CulOscnjiiA-",
        "outputId": "968a6dc5-f08f-474c-876f-c267232706a1"
      },
      "execution_count": 18,
      "outputs": [
        {
          "output_type": "display_data",
          "data": {
            "image/png": "[encoded data removed]",
            "text/plain": [
              "<Figure size 720x360 with 1 Axes>"
            ]
          },
          "metadata": {
            "needs_background": "light"
          }
        }
      ]
    }
  ]
}